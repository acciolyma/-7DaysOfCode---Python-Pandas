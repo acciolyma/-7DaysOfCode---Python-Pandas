{
  "nbformat": 4,
  "nbformat_minor": 0,
  "metadata": {
    "colab": {
      "provenance": []
    },
    "kernelspec": {
      "name": "python3",
      "display_name": "Python 3"
    },
    "language_info": {
      "name": "python"
    }
  },
  "cells": [
    {
      "cell_type": "code",
      "execution_count": null,
      "metadata": {
        "colab": {
          "base_uri": "https://localhost:8080/"
        },
        "id": "KcQeCNvOXX7M",
        "outputId": "c7f1cfc1-6bd7-4bec-fb1c-498c4962c3b3"
      },
      "outputs": [
        {
          "output_type": "stream",
          "name": "stdout",
          "text": [
            "   id_emprestimo codigo_barras                 data_renovacao  \\\n",
            "0         709684       L095049                            NaN   \n",
            "1         709685       L167050                            NaN   \n",
            "2         709686    2006017618  2010/01/26 08:07:01.738000000   \n",
            "3         709687       L184117  2010/01/18 11:07:46.470000000   \n",
            "4         709684       L095049                            NaN   \n",
            "\n",
            "                 data_emprestimo                 data_devolucao  \\\n",
            "0  2010/01/04 07:44:10.721000000  2010/01/05 16:26:12.662000000   \n",
            "1  2010/01/04 07:44:10.750000000  2010/01/12 07:34:13.934000000   \n",
            "2  2010/01/04 08:08:44.081000000  2010/02/25 07:36:25.800000000   \n",
            "3  2010/01/04 08:24:21.284000000  2010/02/03 08:58:45.692000000   \n",
            "4  2010/01/04 07:44:10.721000000  2010/01/05 16:26:12.662000000   \n",
            "\n",
            "   matricula_ou_siape    tipo_vinculo_usuario  id_exemplar            colecao  \\\n",
            "0        2.008023e+09      ALUNO DE GRADUAÇÃO      13259.0  Acervo Circulante   \n",
            "1        2.008023e+09      ALUNO DE GRADUAÇÃO      70865.0  Acervo Circulante   \n",
            "2        2.008112e+09  ALUNO DE PÓS-GRADUAÇÃO     195347.0  Acervo Circulante   \n",
            "3        2.007211e+08      ALUNO DE GRADUAÇÃO     131639.0  Acervo Circulante   \n",
            "4        2.008023e+09      ALUNO DE GRADUAÇÃO      13259.0  Acervo Circulante   \n",
            "\n",
            "                                          biblioteca status_material  \\\n",
            "0                     Biblioteca Central Zila Mamede         REGULAR   \n",
            "1                     Biblioteca Central Zila Mamede         REGULAR   \n",
            "2  Biblioteca Setorial Prof. Rodolfo Helinski - E...         REGULAR   \n",
            "3                     Biblioteca Central Zila Mamede         REGULAR   \n",
            "4                     Biblioteca Central Zila Mamede         REGULAR   \n",
            "\n",
            "   localizacao  registro_sistema  \n",
            "0        630.0            4225.0  \n",
            "1        647.0           25009.0  \n",
            "2        640.0           75019.0  \n",
            "3        609.0           44494.0  \n",
            "4        630.0            4225.0  \n"
          ]
        }
      ],
      "source": [
        "# Tarefa: COLETAR E ORGANIZAR OS DADOS DOS EMPRÉSTIMOS\n",
        "# Passo 1 - Importar as bibliotecas necessárias\n",
        "import pandas as pd\n",
        "\n",
        "# URLs dos arquivos CSV dos empréstimos\n",
        "urls = [\n",
        "    'https://raw.githubusercontent.com/FranciscoFoz/7_Days_of_Code_Alura-Python-Pandas/main/Dia_1-Importando_dados/Datasets/dados_emprestimos/emprestimos-20101.csv',\n",
        "    'https://raw.githubusercontent.com/FranciscoFoz/7_Days_of_Code_Alura-Python-Pandas/main/Dia_1-Importando_dados/Datasets/dados_emprestimos/emprestimos-20102.csv',\n",
        "    'https://raw.githubusercontent.com/FranciscoFoz/7_Days_of_Code_Alura-Python-Pandas/main/Dia_1-Importando_dados/Datasets/dados_emprestimos/emprestimos-20111.csv',\n",
        "    'https://raw.githubusercontent.com/FranciscoFoz/7_Days_of_Code_Alura-Python-Pandas/main/Dia_1-Importando_dados/Datasets/dados_emprestimos/emprestimos-20112.csv',\n",
        "    'https://raw.githubusercontent.com/FranciscoFoz/7_Days_of_Code_Alura-Python-Pandas/main/Dia_1-Importando_dados/Datasets/dados_emprestimos/emprestimos-20121.csv',\n",
        "    'https://raw.githubusercontent.com/FranciscoFoz/7_Days_of_Code_Alura-Python-Pandas/main/Dia_1-Importando_dados/Datasets/dados_emprestimos/emprestimos-20122.csv',\n",
        "    'https://raw.githubusercontent.com/FranciscoFoz/7_Days_of_Code_Alura-Python-Pandas/main/Dia_1-Importando_dados/Datasets/dados_emprestimos/emprestimos-20131.csv',\n",
        "    'https://raw.githubusercontent.com/FranciscoFoz/7_Days_of_Code_Alura-Python-Pandas/main/Dia_1-Importando_dados/Datasets/dados_emprestimos/emprestimos-20132.csv',\n",
        "    'https://raw.githubusercontent.com/FranciscoFoz/7_Days_of_Code_Alura-Python-Pandas/main/Dia_1-Importando_dados/Datasets/dados_emprestimos/emprestimos-20141.csv',\n",
        "    'https://raw.githubusercontent.com/FranciscoFoz/7_Days_of_Code_Alura-Python-Pandas/main/Dia_1-Importando_dados/Datasets/dados_emprestimos/emprestimos-20142.csv',\n",
        "    'https://raw.githubusercontent.com/FranciscoFoz/7_Days_of_Code_Alura-Python-Pandas/main/Dia_1-Importando_dados/Datasets/dados_emprestimos/emprestimos-20151.csv',\n",
        "    'https://raw.githubusercontent.com/FranciscoFoz/7_Days_of_Code_Alura-Python-Pandas/main/Dia_1-Importando_dados/Datasets/dados_emprestimos/emprestimos-20152.csv',\n",
        "    'https://raw.githubusercontent.com/FranciscoFoz/7_Days_of_Code_Alura-Python-Pandas/main/Dia_1-Importando_dados/Datasets/dados_emprestimos/emprestimos-20161.csv',\n",
        "    'https://raw.githubusercontent.com/FranciscoFoz/7_Days_of_Code_Alura-Python-Pandas/main/Dia_1-Importando_dados/Datasets/dados_emprestimos/emprestimos-20162.csv',\n",
        "    'https://raw.githubusercontent.com/FranciscoFoz/7_Days_of_Code_Alura-Python-Pandas/main/Dia_1-Importando_dados/Datasets/dados_emprestimos/emprestimos-20171.csv',\n",
        "    'https://raw.githubusercontent.com/FranciscoFoz/7_Days_of_Code_Alura-Python-Pandas/main/Dia_1-Importando_dados/Datasets/dados_emprestimos/emprestimos-20172.csv',\n",
        "    'https://raw.githubusercontent.com/FranciscoFoz/7_Days_of_Code_Alura-Python-Pandas/main/Dia_1-Importando_dados/Datasets/dados_emprestimos/emprestimos-20181.csv',\n",
        "    'https://raw.githubusercontent.com/FranciscoFoz/7_Days_of_Code_Alura-Python-Pandas/main/Dia_1-Importando_dados/Datasets/dados_emprestimos/emprestimos-20182.csv',\n",
        "    'https://raw.githubusercontent.com/FranciscoFoz/7_Days_of_Code_Alura-Python-Pandas/main/Dia_1-Importando_dados/Datasets/dados_emprestimos/emprestimos-20191.csv',\n",
        "    'https://raw.githubusercontent.com/FranciscoFoz/7_Days_of_Code_Alura-Python-Pandas/main/Dia_1-Importando_dados/Datasets/dados_emprestimos/emprestimos-20192.csv',\n",
        "    'https://raw.githubusercontent.com/FranciscoFoz/7_Days_of_Code_Alura-Python-Pandas/main/Dia_1-Importando_dados/Datasets/dados_emprestimos/emprestimos-20201.csv'\n",
        "]\n",
        "\n",
        "# Lendo todos os arquivos de empréstimos e concatenando em um único DataFrame\n",
        "df_emprestimos = pd.concat((pd.read_csv(url) for url in urls), ignore_index=True)\n",
        "\n",
        "# URL do arquivo .parquet\n",
        "url_acervo = 'https://github.com/FranciscoFoz/7_Days_of_Code_Alura-Python-Pandas/raw/main/Dia_1-Importando_dados/Datasets/dados_exemplares.parquet'\n",
        "\n",
        "# Lendo o arquivo .parquet\n",
        "df_acervo = pd.read_parquet(url_acervo)\n",
        "\n",
        "# Mesclando os dados dos empréstimos com os dados do acervo via codigo_barras\n",
        "df_mesclado = pd.merge(df_emprestimos, df_acervo, on='codigo_barras', how='left')\n",
        "\n",
        "# Exibindo as primeiras linhas do DataFrame mesclado\n",
        "print(df_mesclado.head())"
      ]
    },
    {
      "cell_type": "code",
      "source": [
        "# Passo 3 - Fazer Limpeza (dropna); (drop_duplicates)\n",
        "df_limpo = df_mesclado.dropna()\n",
        "df_limpo = df_limpo.drop_duplicates()\n",
        "print(df_limpo.head())\n"
      ],
      "metadata": {
        "colab": {
          "base_uri": "https://localhost:8080/"
        },
        "id": "c53q4fo6nuor",
        "outputId": "3286ef1f-93d6-4143-8e8e-8afded6d102f"
      },
      "execution_count": null,
      "outputs": [
        {
          "output_type": "stream",
          "name": "stdout",
          "text": [
            "    id_emprestimo codigo_barras                 data_renovacao  \\\n",
            "2          709686    2006017618  2010/01/26 08:07:01.738000000   \n",
            "3          709687       L184117  2010/01/18 11:07:46.470000000   \n",
            "8          709688    2007027500  2010/01/19 15:59:26.464000000   \n",
            "9          709689       L157395  2010/01/19 15:59:26.447000000   \n",
            "11         709691    2008046357  2010/01/19 11:50:13.404000000   \n",
            "\n",
            "                  data_emprestimo                 data_devolucao  \\\n",
            "2   2010/01/04 08:08:44.081000000  2010/02/25 07:36:25.800000000   \n",
            "3   2010/01/04 08:24:21.284000000  2010/02/03 08:58:45.692000000   \n",
            "8   2010/01/04 08:27:33.569000000  2010/02/03 13:06:30.662000000   \n",
            "9   2010/01/04 08:27:33.596000000  2010/02/03 13:06:43.125000000   \n",
            "11  2010/01/04 09:02:30.576000000  2010/02/02 12:13:36.132000000   \n",
            "\n",
            "    matricula_ou_siape    tipo_vinculo_usuario  id_exemplar  \\\n",
            "2         2.008112e+09  ALUNO DE PÓS-GRADUAÇÃO     195347.0   \n",
            "3         2.007211e+08      ALUNO DE GRADUAÇÃO     131639.0   \n",
            "8         2.009046e+09      ALUNO DE GRADUAÇÃO     225646.0   \n",
            "9         2.009046e+09      ALUNO DE GRADUAÇÃO      57040.0   \n",
            "11        2.005075e+08      ALUNO DE GRADUAÇÃO     256537.0   \n",
            "\n",
            "              colecao                                         biblioteca  \\\n",
            "2   Acervo Circulante  Biblioteca Setorial Prof. Rodolfo Helinski - E...   \n",
            "3   Acervo Circulante                     Biblioteca Central Zila Mamede   \n",
            "8   Acervo Circulante                     Biblioteca Central Zila Mamede   \n",
            "9   Acervo Circulante                     Biblioteca Central Zila Mamede   \n",
            "11  Acervo Circulante  Biblioteca Setorial Bertha Cruz Enders - ­Esco...   \n",
            "\n",
            "   status_material  localizacao  registro_sistema  \n",
            "2          REGULAR        640.0           75019.0  \n",
            "3          REGULAR        609.0           44494.0  \n",
            "8          REGULAR        686.0           91736.0  \n",
            "9          REGULAR        698.0           20943.0  \n",
            "11         REGULAR        645.0          110273.0  \n"
          ]
        }
      ]
    },
    {
      "cell_type": "code",
      "source": [],
      "metadata": {
        "id": "WfLUbGtJtexB"
      },
      "execution_count": null,
      "outputs": []
    }
  ]
}